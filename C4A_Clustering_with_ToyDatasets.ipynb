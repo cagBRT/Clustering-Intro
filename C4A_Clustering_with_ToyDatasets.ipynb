{
  "nbformat": 4,
  "nbformat_minor": 0,
  "metadata": {
    "colab": {
      "name": "C4A Clustering with ToyDatasets.ipynb",
      "provenance": [],
      "private_outputs": true,
      "authorship_tag": "ABX9TyMpvEAaUs9CPgfXoC3Rkq+r",
      "include_colab_link": true
    },
    "kernelspec": {
      "name": "python3",
      "display_name": "Python 3"
    }
  },
  "cells": [
    {
      "cell_type": "markdown",
      "metadata": {
        "id": "view-in-github",
        "colab_type": "text"
      },
      "source": [
        "<a href=\"https://colab.research.google.com/github/cagBRT/Clustering-Intro/blob/master/C4A_Clustering_with_ToyDatasets.ipynb\" target=\"_parent\"><img src=\"https://colab.research.google.com/assets/colab-badge.svg\" alt=\"Open In Colab\"/></a>"
      ]
    },
    {
      "cell_type": "markdown",
      "metadata": {
        "id": "GbJN_r0TqMqX",
        "colab_type": "text"
      },
      "source": [
        "This CoLab creates two class datasets. <br>\n",
        "Then trains different classification models on the dataset. <br>\n",
        "The results of the different models are plotted.  "
      ]
    },
    {
      "cell_type": "markdown",
      "metadata": {
        "id": "Rlu5Ij1ESjC-",
        "colab_type": "text"
      },
      "source": [
        "**Import the necessary libraries**"
      ]
    },
    {
      "cell_type": "code",
      "metadata": {
        "id": "tbRkH1GH636K",
        "colab_type": "code",
        "colab": {}
      },
      "source": [
        "import time\n",
        "import warnings\n",
        "\n",
        "import numpy as np\n",
        "import matplotlib.pyplot as plt\n",
        "\n",
        "from sklearn import cluster, datasets, mixture\n",
        "from sklearn.neighbors import kneighbors_graph\n",
        "from sklearn.preprocessing import StandardScaler\n",
        "from itertools import cycle, islice"
      ],
      "execution_count": null,
      "outputs": []
    },
    {
      "cell_type": "markdown",
      "metadata": {
        "id": "T8HgUibFStA8",
        "colab_type": "text"
      },
      "source": [
        "**Set the parameters**"
      ]
    },
    {
      "cell_type": "code",
      "metadata": {
        "id": "1xXq9-nN7MFf",
        "colab_type": "code",
        "colab": {}
      },
      "source": [
        "np.random.seed(0)\n",
        "n_samples = 1500"
      ],
      "execution_count": null,
      "outputs": []
    },
    {
      "cell_type": "markdown",
      "metadata": {
        "id": "DqIxBc_Op9DT",
        "colab_type": "text"
      },
      "source": [
        "**Plot the dataset**<br>"
      ]
    },
    {
      "cell_type": "markdown",
      "metadata": {
        "id": "8YrsylClSxJK",
        "colab_type": "text"
      },
      "source": [
        "**Generate the datasets**<br>\n",
        "Looking at 6 different datasets:<br>\n",
        ">1. noisy circles<br>\n",
        "2. noisy moons<br>\n",
        "3. blobs<br>\n",
        "4. no structure<br>\n",
        "5. anisotropically distributed data <br>\n",
        ">>(Anisotropy is the property of being directionally dependent, which implies different properties in different directions, as opposed to isotropy.)<br>\n",
        "\n",
        ">6. blobs with varied variances<br>\n"
      ]
    },
    {
      "cell_type": "code",
      "metadata": {
        "id": "hZGsG9o17XK-",
        "colab_type": "code",
        "colab": {}
      },
      "source": [
        "# ============\n",
        "# Generate datasets. We choose the size big enough to see the scalability\n",
        "# of the algorithms, but not too big to avoid too long running times\n",
        "# ============\n",
        "noisy_circles = datasets.make_circles(n_samples=n_samples, factor=.5,\n",
        "                                      noise=.05)\n",
        "noisy_moons = datasets.make_moons(n_samples=n_samples, noise=.05)\n",
        "blobs = datasets.make_blobs(n_samples=n_samples, random_state=8)\n",
        "no_structure = np.random.rand(n_samples, 2), None\n",
        "\n",
        "# Anisotropicly distributed data\n",
        "random_state = 170\n",
        "X, y = datasets.make_blobs(n_samples=n_samples, random_state=random_state)\n",
        "transformation = [[0.6, -0.6], [-0.4, 0.8]]\n",
        "X_aniso = np.dot(X, transformation)\n",
        "aniso = (X_aniso, y)\n",
        "\n",
        "# blobs with varied variances\n",
        "varied = datasets.make_blobs(n_samples=n_samples,\n",
        "                             cluster_std=[1.0, 2.5, 0.5],\n",
        "                             random_state=random_state)\n"
      ],
      "execution_count": null,
      "outputs": []
    },
    {
      "cell_type": "code",
      "metadata": {
        "id": "KAa8ROWKtt3u",
        "colab_type": "code",
        "colab": {}
      },
      "source": [
        "noisy_circles1 = datasets.make_circles(n_samples=n_samples, factor=.5,\n",
        "                                      noise=.05)[0]\n",
        "\n",
        "plt.scatter(noisy_circles1[:,0], noisy_circles1[:,1], color='g')\n",
        "plt.show()"
      ],
      "execution_count": null,
      "outputs": []
    },
    {
      "cell_type": "code",
      "metadata": {
        "id": "3k9IVZq8tvTG",
        "colab_type": "code",
        "colab": {}
      },
      "source": [
        "blobs1 = datasets.make_blobs(n_samples=n_samples, random_state=8)[0]\n",
        "\n",
        "plt.scatter(blobs1[:,0], blobs1[:,1], color='g')\n",
        "plt.show()"
      ],
      "execution_count": null,
      "outputs": []
    },
    {
      "cell_type": "code",
      "metadata": {
        "id": "OTrUJWHGuHol",
        "colab_type": "code",
        "colab": {}
      },
      "source": [
        "no_structure1 = (np.random.rand(n_samples, 2), None)[0]\n",
        "\n",
        "plt.scatter(no_structure1[:,0], no_structure1[:,1], color='g')\n",
        "plt.show()"
      ],
      "execution_count": null,
      "outputs": []
    },
    {
      "cell_type": "code",
      "metadata": {
        "id": "aZU5p3twul2w",
        "colab_type": "code",
        "colab": {}
      },
      "source": [
        "aniso1 = (X_aniso, y)[0]\n",
        "plt.scatter(aniso1[:,0], aniso1[:,1], color='g')\n",
        "plt.show()"
      ],
      "execution_count": null,
      "outputs": []
    },
    {
      "cell_type": "code",
      "metadata": {
        "id": "EGhpOR6rux5U",
        "colab_type": "code",
        "colab": {}
      },
      "source": [
        "varied1 = datasets.make_blobs(n_samples=n_samples,\n",
        "                             cluster_std=[1.0, 2.5, 0.5],\n",
        "                             random_state=random_state)[0]\n",
        "\n",
        "plt.scatter(varied1[:,0], varied1[:,1], color='g')\n",
        "plt.show()"
      ],
      "execution_count": null,
      "outputs": []
    },
    {
      "cell_type": "markdown",
      "metadata": {
        "id": "LyFOOPl6Xwc8",
        "colab_type": "text"
      },
      "source": [
        "All the datasets will be grouped into 3 clusters"
      ]
    },
    {
      "cell_type": "code",
      "metadata": {
        "id": "GjfoZEt3WLNM",
        "colab_type": "code",
        "colab": {}
      },
      "source": [
        "default_base = {'quantile': .3,\n",
        "                'eps': .3,\n",
        "                'damping': .9,\n",
        "                'preference': -200,\n",
        "                'n_neighbors': 10,\n",
        "                'n_clusters': 3,\n",
        "                'min_samples': 20,\n",
        "                'xi': 0.05,\n",
        "                'min_cluster_size': 0.1}"
      ],
      "execution_count": null,
      "outputs": []
    },
    {
      "cell_type": "markdown",
      "metadata": {
        "id": "QqzFRRG9TYzx",
        "colab_type": "text"
      },
      "source": [
        "Mini Batch K-means is an alternative to the K-means algorithm for clustering massive datasets. The advantage of this algorithm is to reduce the computational cost by not using all the dataset each iteration but a subsample of a fixed size"
      ]
    },
    {
      "cell_type": "code",
      "metadata": {
        "id": "Yyfjo6-w5WNo",
        "colab_type": "code",
        "colab": {}
      },
      "source": [
        "# ============\n",
        "# Set up cluster parameters\n",
        "# ============\n",
        "plt.figure(figsize=(10 * 2 + 3, 12.5))\n",
        "plt.subplots_adjust(left=.02, right=.98, bottom=.001, top=.96, wspace=.05,\n",
        "                    hspace=.01)\n",
        "\n",
        "plot_num = 1\n",
        "\n",
        "datasets = [\n",
        "    (noisy_circles, {'damping': .77, 'preference': -240,\n",
        "                     'quantile': .2, 'n_clusters': 2,\n",
        "                     'min_samples': 20, 'xi': 0.25}),\n",
        "    (noisy_moons, {'damping': .75, 'preference': -220, 'n_clusters': 2}),\n",
        "    (varied, {'eps': .18, 'n_neighbors': 2,\n",
        "              'min_samples': 5, 'xi': 0.035, 'min_cluster_size': .2}),\n",
        "    (aniso, {'eps': .15, 'n_neighbors': 2,\n",
        "             'min_samples': 20, 'xi': 0.1, 'min_cluster_size': .2}),\n",
        "    (blobs, {}),\n",
        "    (no_structure, {})]\n",
        "\n",
        "for i_dataset, (dataset, algo_params) in enumerate(datasets):\n",
        "    # update parameters with dataset-specific values\n",
        "    params = default_base.copy()\n",
        "    params.update(algo_params)\n",
        "\n",
        "    X, y = dataset\n",
        "\n",
        "    # normalize dataset for easier parameter selection\n",
        "    X = StandardScaler().fit_transform(X)\n",
        "\n",
        "    # estimate bandwidth for mean shift\n",
        "    bandwidth = cluster.estimate_bandwidth(X, quantile=params['quantile'])\n",
        "\n",
        "    # connectivity matrix for structured Ward\n",
        "    connectivity = kneighbors_graph(\n",
        "        X, n_neighbors=params['n_neighbors'], include_self=False)\n",
        "    # make connectivity symmetric\n",
        "    connectivity = 0.5 * (connectivity + connectivity.T)\n",
        "\n",
        "    # ============\n",
        "    # Create cluster objects\n",
        "    # ============\n",
        "    ms = cluster.MeanShift(bandwidth=bandwidth, bin_seeding=True)\n",
        "    two_means = cluster.MiniBatchKMeans(n_clusters=params['n_clusters'])\n",
        "    ward = cluster.AgglomerativeClustering(\n",
        "        n_clusters=params['n_clusters'], linkage='ward',\n",
        "        connectivity=connectivity)\n",
        "    spectral = cluster.SpectralClustering(\n",
        "        n_clusters=params['n_clusters'], eigen_solver='arpack',\n",
        "        affinity=\"nearest_neighbors\")\n",
        "    dbscan = cluster.DBSCAN(eps=params['eps'])\n",
        "    optics = cluster.OPTICS(min_samples=params['min_samples'],\n",
        "                            xi=params['xi'],\n",
        "                            min_cluster_size=params['min_cluster_size'])\n",
        "    affinity_propagation = cluster.AffinityPropagation(\n",
        "        damping=params['damping'], preference=params['preference'])\n",
        "    average_linkage = cluster.AgglomerativeClustering(\n",
        "        linkage=\"average\", affinity=\"cityblock\",\n",
        "        n_clusters=params['n_clusters'], connectivity=connectivity)\n",
        "    birch = cluster.Birch(n_clusters=params['n_clusters'])\n",
        "    gmm = mixture.GaussianMixture(\n",
        "        n_components=params['n_clusters'], covariance_type='full')\n",
        "\n",
        "    clustering_algorithms = (\n",
        "        ('MiniBatchKMeans', two_means),\n",
        "        ('AffinityPropagation', affinity_propagation),\n",
        "        ('MeanShift', ms),\n",
        "        ('SpectralClustering', spectral),\n",
        "        ('Ward', ward),\n",
        "        ('AgglomerativeClustering', average_linkage),\n",
        "        ('DBSCAN', dbscan),\n",
        "        ('OPTICS', optics),\n",
        "        ('Birch', birch),\n",
        "        ('GaussianMixture', gmm)\n",
        "    )\n",
        "\n",
        "    for name, algorithm in clustering_algorithms:\n",
        "        t0 = time.time()\n",
        "\n",
        "        # catch warnings related to kneighbors_graph\n",
        "        with warnings.catch_warnings():\n",
        "            warnings.filterwarnings(\n",
        "                \"ignore\",\n",
        "                message=\"the number of connected components of the \" +\n",
        "                \"connectivity matrix is [0-9]{1,2}\" +\n",
        "                \" > 1. Completing it to avoid stopping the tree early.\",\n",
        "                category=UserWarning)\n",
        "            warnings.filterwarnings(\n",
        "                \"ignore\",\n",
        "                message=\"Graph is not fully connected, spectral embedding\" +\n",
        "                \" may not work as expected.\",\n",
        "                category=UserWarning)\n",
        "            algorithm.fit(X)\n",
        "\n",
        "        t1 = time.time()\n",
        "        if hasattr(algorithm, 'labels_'):\n",
        "            y_pred = algorithm.labels_.astype(np.int)\n",
        "        else:\n",
        "            y_pred = algorithm.predict(X)\n",
        "\n",
        "        plt.subplot(len(datasets), len(clustering_algorithms), plot_num)\n",
        "        if i_dataset == 0:\n",
        "            plt.title(name, size=18)\n",
        "\n",
        "        colors = np.array(list(islice(cycle(['blue', 'orange', 'green',\n",
        "                                             'pink', 'purple', '#984ea3',\n",
        "                                             '#999999', '#e41a1c', '#dede00']),\n",
        "                                      int(max(y_pred) + 1))))\n",
        "        # add black color for outliers (if any)\n",
        "        colors = np.append(colors, [\"#000000\"])\n",
        "        plt.scatter(X[:, 0], X[:, 1], s=10, color=colors[y_pred])\n",
        "\n",
        "        plt.xlim(-2.5, 2.5)\n",
        "        plt.ylim(-2.5, 2.5)\n",
        "        plt.xticks(())\n",
        "        plt.yticks(())\n",
        "        plt.text(.99, .01, ('%.2fs' % (t1 - t0)).lstrip('0'),\n",
        "                 transform=plt.gca().transAxes, size=15,\n",
        "                 horizontalalignment='right')\n",
        "        plot_num += 1\n",
        "\n",
        "plt.show()\n",
        "\n",
        "# noisy_circles\n",
        "# noisy_moons\n",
        "#varied\n",
        "#aniso\n",
        "#blobs\n",
        "#no_structure"
      ],
      "execution_count": null,
      "outputs": []
    },
    {
      "cell_type": "markdown",
      "metadata": {
        "id": "4X1AsXFb7DYO",
        "colab_type": "text"
      },
      "source": [
        "https://scikit-learn.org/stable/auto_examples/cluster/plot_cluster_comparison.html\n"
      ]
    }
  ]
}