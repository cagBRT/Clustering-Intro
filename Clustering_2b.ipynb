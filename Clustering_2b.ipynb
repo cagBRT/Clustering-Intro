{
  "nbformat": 4,
  "nbformat_minor": 0,
  "metadata": {
    "colab": {
      "private_outputs": true,
      "provenance": [],
      "authorship_tag": "ABX9TyPiQdauzEuzkzh/G0wpNMvu",
      "include_colab_link": true
    },
    "kernelspec": {
      "name": "python3",
      "display_name": "Python 3"
    },
    "language_info": {
      "name": "python"
    }
  },
  "cells": [
    {
      "cell_type": "markdown",
      "metadata": {
        "id": "view-in-github",
        "colab_type": "text"
      },
      "source": [
        "<a href=\"https://colab.research.google.com/github/cagBRT/Clustering-Intro/blob/master/Clustering_2b.ipynb\" target=\"_parent\"><img src=\"https://colab.research.google.com/assets/colab-badge.svg\" alt=\"Open In Colab\"/></a>"
      ]
    },
    {
      "cell_type": "markdown",
      "source": [
        "In this notebook we create a synthetic dataset and use the KMeans clustering algorithm.<br>\n",
        "We check which method gives us a better recommendation for the number of clusters:<br>\n",
        "- the elbow method<br>\n",
        "- the silhouette score"
      ],
      "metadata": {
        "id": "2wQvQ3WSDPIx"
      }
    },
    {
      "cell_type": "code",
      "metadata": {
        "id": "TTWJ4MX3gN0K"
      },
      "source": [
        "import matplotlib.pyplot as plt\n",
        "from sklearn.datasets import make_blobs, make_moons\n",
        "\n",
        "from sklearn.cluster import KMeans\n",
        "from sklearn.metrics import silhouette_score"
      ],
      "execution_count": null,
      "outputs": []
    },
    {
      "cell_type": "markdown",
      "source": [
        "Select the number of clusters for our synthetic dataset"
      ],
      "metadata": {
        "id": "vByzeUluDu14"
      }
    },
    {
      "cell_type": "code",
      "source": [
        "num_clusters=5\n",
        "num_samples=1500"
      ],
      "metadata": {
        "id": "ngJInD3BCjLK"
      },
      "execution_count": null,
      "outputs": []
    },
    {
      "cell_type": "markdown",
      "source": [
        "**Create and plot the dataset**"
      ],
      "metadata": {
        "id": "9KrwWqHRD0mq"
      }
    },
    {
      "cell_type": "code",
      "metadata": {
        "id": "cuLXv7wWgfJd"
      },
      "source": [
        "# create dataset\n",
        "X, y = make_blobs(\n",
        "   n_samples=num_samples, n_features=6,\n",
        "   centers=num_clusters, cluster_std=0.5,\n",
        "   shuffle=True, random_state=0\n",
        ")"
      ],
      "execution_count": null,
      "outputs": []
    },
    {
      "cell_type": "code",
      "source": [
        "#X, y = make_moons(n_samples=200, noise=0.2, random_state=42)"
      ],
      "metadata": {
        "id": "QcHYF-ttFTOz"
      },
      "execution_count": null,
      "outputs": []
    },
    {
      "cell_type": "code",
      "metadata": {
        "id": "swRV8mL-b2Hf"
      },
      "source": [
        "# plot\n",
        "plt.scatter(\n",
        "   X[:, 0], X[:, 1],\n",
        "   c='blue', marker='o',\n",
        "   edgecolor='black', s=50\n",
        ")\n",
        "plt.show()"
      ],
      "execution_count": null,
      "outputs": []
    },
    {
      "cell_type": "markdown",
      "source": [
        "**Use the Elbow method to determine the correct number of clusters**"
      ],
      "metadata": {
        "id": "uAHn5w7fD6U5"
      }
    },
    {
      "cell_type": "code",
      "metadata": {
        "id": "K5BUUGdJUJ7Z"
      },
      "source": [
        "# calculate distortion for a range of number of cluster\n",
        "max_of_clusters = 11\n",
        "\n",
        "distortions = []\n",
        "for i in range(1, max_of_clusters):\n",
        "    km = KMeans(\n",
        "        n_clusters=i, init='random',\n",
        "        n_init=10, max_iter=300,\n",
        "        tol=1e-04, random_state=0\n",
        "    )\n",
        "    km.fit(X)\n",
        "    distortions.append(km.inertia_)\n",
        "\n",
        "# plot\n",
        "plt.plot(range(1, max_of_clusters), distortions, marker='o')\n",
        "plt.xlabel('Number of clusters')\n",
        "plt.ylabel('Distortion')\n",
        "plt.show()"
      ],
      "execution_count": null,
      "outputs": []
    },
    {
      "cell_type": "markdown",
      "source": [
        "**Use the Silhouette score to determine the correct number of clusters**"
      ],
      "metadata": {
        "id": "WpmkUvDOEBL4"
      }
    },
    {
      "cell_type": "code",
      "source": [
        "score_list=[]\n",
        "for i in range(2,num_clusters+1):\n",
        "  kmeans = KMeans(n_clusters=i, random_state=42,n_init=10,)\n",
        "  km=kmeans.fit_predict(X)\n",
        "  print(\"Num of clusters=\", i,\":\",silhouette_score(X,km ))"
      ],
      "metadata": {
        "id": "cgrv7GEx4z8R"
      },
      "execution_count": null,
      "outputs": []
    }
  ]
}