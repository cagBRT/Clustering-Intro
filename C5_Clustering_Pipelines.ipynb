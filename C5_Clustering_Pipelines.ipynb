{
  "nbformat": 4,
  "nbformat_minor": 0,
  "metadata": {
    "colab": {
      "name": "C5 Clustering Pipelines.ipynb",
      "provenance": [],
      "private_outputs": true,
      "authorship_tag": "ABX9TyNXIC/858jU9h9qoMICzwG0",
      "include_colab_link": true
    },
    "kernelspec": {
      "name": "python3",
      "display_name": "Python 3"
    }
  },
  "cells": [
    {
      "cell_type": "markdown",
      "metadata": {
        "id": "view-in-github",
        "colab_type": "text"
      },
      "source": [
        "<a href=\"https://colab.research.google.com/github/cagBRT/Clustering-Intro/blob/master/C5_Clustering_Pipelines.ipynb\" target=\"_parent\"><img src=\"https://colab.research.google.com/assets/colab-badge.svg\" alt=\"Open In Colab\"/></a>"
      ]
    },
    {
      "cell_type": "markdown",
      "metadata": {
        "id": "SMm5kBozNW4r"
      },
      "source": [
        "In this notebook you create a clustering pipeline using a real-world dataset."
      ]
    },
    {
      "cell_type": "markdown",
      "metadata": {
        "id": "mLmUdTz7Mywg"
      },
      "source": [
        "# **Import Libraries**"
      ]
    },
    {
      "cell_type": "code",
      "metadata": {
        "id": "EXNHY6EvGJpt"
      },
      "source": [
        "import tarfile\n",
        "import urllib\n",
        "\n",
        "import numpy as np\n",
        "import matplotlib.pyplot as plt\n",
        "import pandas as pd\n",
        "import seaborn as sns\n",
        "\n",
        "from sklearn.cluster import KMeans\n",
        "from sklearn.decomposition import PCA\n",
        "from sklearn.metrics import silhouette_score, adjusted_rand_score\n",
        "from sklearn.pipeline import Pipeline\n",
        "from sklearn.preprocessing import LabelEncoder, MinMaxScaler"
      ],
      "execution_count": null,
      "outputs": []
    },
    {
      "cell_type": "markdown",
      "metadata": {
        "id": "2H98btF2NpGK"
      },
      "source": [
        "These data contain gene expression values from a manuscript authored by The Cancer Genome Atlas (TCGA) Pan-Cancer analysis project investigators.\n",
        "\n",
        "There are 881 samples (rows) representing five distinct cancer subtypes. Each sample has gene expression values for 20,531 genes (columns). The dataset is available from the UC Irvine Machine Learning Repository."
      ]
    },
    {
      "cell_type": "code",
      "metadata": {
        "id": "UW1jTdVEKPbH"
      },
      "source": [
        "uci_tcga_url = \"https://archive.ics.uci.edu/ml/machine-learning-databases/00401/\"\n",
        "archive_name = \"TCGA-PANCAN-HiSeq-801x20531.tar.gz\"\n",
        "\n",
        "# build the url\n",
        "full_download_url = urllib.parse.urljoin(uci_tcga_url, archive_name)\n",
        "\n",
        "# download the file\n",
        "r = urllib.request.urlretrieve (full_download_url, archive_name)\n",
        "\n",
        "# extract the data from the archive\n",
        "tar = tarfile.open(archive_name, \"r:gz\")\n",
        "tar.extractall()\n",
        "tar.close()"
      ],
      "execution_count": null,
      "outputs": []
    },
    {
      "cell_type": "code",
      "metadata": {
        "id": "ITmD8uICKUZ7"
      },
      "source": [
        "datafile = \"TCGA-PANCAN-HiSeq-801x20531/data.csv\"\n",
        "labels_file = \"TCGA-PANCAN-HiSeq-801x20531/labels.csv\"\n",
        "\n",
        "data = np.genfromtxt(\n",
        "    datafile,\n",
        "    delimiter=\",\",\n",
        "    usecols=range(1, 20532),\n",
        "    skip_header=1\n",
        ")\n",
        "\n",
        "true_label_names = np.genfromtxt(\n",
        "    labels_file,\n",
        "    delimiter=\",\",\n",
        "    usecols=(1,),\n",
        "    skip_header=1,\n",
        "    dtype=str\n",
        ")"
      ],
      "execution_count": null,
      "outputs": []
    },
    {
      "cell_type": "markdown",
      "metadata": {
        "id": "Y-z57y-oOEzQ"
      },
      "source": [
        "The data has 801 rows and 20,531 columns."
      ]
    },
    {
      "cell_type": "code",
      "metadata": {
        "id": "EAtgjqzVN9tj"
      },
      "source": [
        "data.shape"
      ],
      "execution_count": null,
      "outputs": []
    },
    {
      "cell_type": "markdown",
      "metadata": {
        "id": "JSOnYaP6Pf1_"
      },
      "source": [
        "Print the first 5 rows and the first three columns of tge dataset"
      ]
    },
    {
      "cell_type": "code",
      "metadata": {
        "id": "sqT6hT_4KdRt"
      },
      "source": [
        "data[:5, :3]"
      ],
      "execution_count": null,
      "outputs": []
    },
    {
      "cell_type": "markdown",
      "metadata": {
        "id": "4UM-6sveORJm"
      },
      "source": [
        "There are five classes of cancer in the dataset. <br>\n",
        "These are the labels (predictions) that will be made with the clustering model."
      ]
    },
    {
      "cell_type": "code",
      "metadata": {
        "id": "LUeo0KwbK48_"
      },
      "source": [
        "label_encoder = LabelEncoder()"
      ],
      "execution_count": null,
      "outputs": []
    },
    {
      "cell_type": "code",
      "metadata": {
        "id": "uir8EarwK7zx"
      },
      "source": [
        "true_labels = label_encoder.fit_transform(true_label_names)"
      ],
      "execution_count": null,
      "outputs": []
    },
    {
      "cell_type": "markdown",
      "metadata": {
        "id": "IkvU-hSqPqPx"
      },
      "source": [
        "The labels are strings containing abbreviations of cancer types:<br>\n",
        "\n",
        ">BRCA: Breast invasive carcinoma<br>\n",
        "COAD: Colon adenocarcinoma<br>\n",
        "KIRC: Kidney renal clear cell carcinoma<br>\n",
        "LUAD: Lung adenocarcinoma<br>\n",
        "PRAD: Prostate adenocarcinoma<br>\n"
      ]
    },
    {
      "cell_type": "code",
      "metadata": {
        "id": "EXblUYzsOy2w"
      },
      "source": [
        "label_encoder.classes_"
      ],
      "execution_count": null,
      "outputs": []
    },
    {
      "cell_type": "markdown",
      "metadata": {
        "id": "mURweAh9O6pc"
      },
      "source": [
        "Print a sample of the true_label_names"
      ]
    },
    {
      "cell_type": "code",
      "metadata": {
        "id": "WOV2598OKuNy"
      },
      "source": [
        "true_label_names[:5]"
      ],
      "execution_count": null,
      "outputs": []
    },
    {
      "cell_type": "markdown",
      "metadata": {
        "id": "QCffDLeHPGmz"
      },
      "source": [
        "Print a sample of the converted label names"
      ]
    },
    {
      "cell_type": "code",
      "metadata": {
        "id": "si8ci5bzLEa_"
      },
      "source": [
        "true_labels[:5]"
      ],
      "execution_count": null,
      "outputs": []
    },
    {
      "cell_type": "markdown",
      "metadata": {
        "id": "DhrFzbd-PNu2"
      },
      "source": [
        "The number of clusters is equal to the number of classes (or labels)"
      ]
    },
    {
      "cell_type": "code",
      "metadata": {
        "id": "p_B5u7_aLRAu"
      },
      "source": [
        "n_clusters = len(label_encoder.classes_)"
      ],
      "execution_count": null,
      "outputs": []
    },
    {
      "cell_type": "markdown",
      "metadata": {
        "id": "ph3fTUoWP_4c"
      },
      "source": [
        "# **Data PreProcessing Pipelines**\n",
        "\n",
        "Many times, the data needs to be processed before it can be used in the machine learning model. <br>\n",
        "Creating and using a data pipeline means the data can be consistently treated during development and production release."
      ]
    },
    {
      "cell_type": "markdown",
      "metadata": {
        "id": "BRXW7DsGVm1V"
      },
      "source": [
        "As the number of features increases, the feature space becomes sparse. This sparsity makes it difficult for algorithms to find data objects near one another in higher-dimensional space. Since the gene expression dataset has over 20,000 features, it qualifies as a great candidate for dimensionality reduction."
      ]
    },
    {
      "cell_type": "markdown",
      "metadata": {
        "id": "U6SkaEyWVzt2"
      },
      "source": [
        "**Principal Component Analysis** (PCA) is one of many dimensionality reduction techniques. PCA transforms the input data by projecting it into a lower number of dimensions called components. The components capture the variability of the input data through a linear combination of the input data’s features.<br><br>\n",
        "*If you are interested in learning more about PCA, BRT offers a 1/2 day class on it.*"
      ]
    },
    {
      "cell_type": "markdown",
      "metadata": {
        "id": "5zwpDdziPWGQ"
      },
      "source": [
        "**Create the preprocessor pipeline for the data**<br>\n",
        "Scale the data<br>\n",
        "Perform PCA<br>"
      ]
    },
    {
      "cell_type": "code",
      "metadata": {
        "id": "voB6IYbdLW66"
      },
      "source": [
        "preprocessor = Pipeline(\n",
        "    [\n",
        "        (\"scaler\", MinMaxScaler()),\n",
        "        (\"pca\", PCA(n_components=2, random_state=42)),\n",
        "    ]\n",
        ")"
      ],
      "execution_count": null,
      "outputs": []
    },
    {
      "cell_type": "markdown",
      "metadata": {
        "id": "qURIrjpCWocg"
      },
      "source": [
        "**Create the pipeline to perform clustering**"
      ]
    },
    {
      "cell_type": "code",
      "metadata": {
        "id": "cZNizgSgLdKB"
      },
      "source": [
        "#k++ == selects initial cluster centers for k-mean\n",
        "    #clustering in a smart way to speed up convergence. See section\n",
        "#n_init == Number of time the k-means algorithm will be run with different\n",
        "    #centroid seeds. The final results will be the best output of\n",
        "#max_iter== You’ll increase the number of iterations per initialization\n",
        "    #to ensure that k-means will converge.\n",
        "\n",
        "clusterer = Pipeline(\n",
        "   [\n",
        "       (\n",
        "           \"kmeans\",\n",
        "           KMeans(\n",
        "               n_clusters=n_clusters, #for this data, 5 clusters\n",
        "               init=\"k-means++\",\n",
        "               n_init=50,\n",
        "               max_iter=500,\n",
        "               random_state=42,\n",
        "           ),\n",
        "       ),\n",
        "   ]\n",
        ")"
      ],
      "execution_count": null,
      "outputs": []
    },
    {
      "cell_type": "markdown",
      "metadata": {
        "id": "DbDYxmRsXvMa"
      },
      "source": [
        "Combine the two pipelines to form an end-to-end k-means clustering pipeline"
      ]
    },
    {
      "cell_type": "code",
      "metadata": {
        "id": "6EfDYKBbLf0O"
      },
      "source": [
        "pipe = Pipeline(\n",
        "    [\n",
        "        (\"preprocessor\", preprocessor),\n",
        "        (\"clusterer\", clusterer)\n",
        "    ]\n",
        ")"
      ],
      "execution_count": null,
      "outputs": []
    },
    {
      "cell_type": "markdown",
      "metadata": {
        "id": "dYIuYO2bX_Ps"
      },
      "source": [
        "**Train the model**"
      ]
    },
    {
      "cell_type": "code",
      "metadata": {
        "id": "9uyplCfDLf11"
      },
      "source": [
        "pipe.fit(data)"
      ],
      "execution_count": null,
      "outputs": []
    },
    {
      "cell_type": "markdown",
      "metadata": {
        "id": "3rxwFr_P7g4D"
      },
      "source": [
        "**Evaluate the performance of the model**\n",
        "\n",
        "The scale for each of these clustering performance metrics ranges from -1 to 1. <br>\n",
        "\n",
        "A silhouette coefficient of 0 indicates that clusters are significantly overlapping one another,<br>\n",
        "\n",
        " A silhouette coefficient of 1 indicates clusters are well-separated.<br>\n",
        "\n",
        "An ARI score of 0 indicates that cluster labels are randomly assigned,<br>\n",
        "\n",
        "An ARI score of 1 means that the true labels and predicted labels form identical clusters."
      ]
    },
    {
      "cell_type": "code",
      "metadata": {
        "id": "VNmnDi3XLyRc"
      },
      "source": [
        "preprocessed_data = pipe[\"preprocessor\"].transform(data)"
      ],
      "execution_count": null,
      "outputs": []
    },
    {
      "cell_type": "code",
      "metadata": {
        "id": "LF5vkJrML0zc"
      },
      "source": [
        "predicted_labels = pipe[\"clusterer\"][\"kmeans\"].labels_"
      ],
      "execution_count": null,
      "outputs": []
    },
    {
      "cell_type": "code",
      "metadata": {
        "id": "wJkuYj30L014"
      },
      "source": [
        "silhouette_score(preprocessed_data, predicted_labels)"
      ],
      "execution_count": null,
      "outputs": []
    },
    {
      "cell_type": "code",
      "metadata": {
        "id": "M76NqMZ_L7LG"
      },
      "source": [
        "adjusted_rand_score(true_labels, predicted_labels)"
      ],
      "execution_count": null,
      "outputs": []
    },
    {
      "cell_type": "code",
      "metadata": {
        "id": "wkAsemWDL-fp"
      },
      "source": [
        "pcadf = pd.DataFrame(\n",
        "    pipe[\"preprocessor\"].transform(data),\n",
        "    columns=[\"component_1\", \"component_2\"],\n",
        ")\n",
        "\n",
        "pcadf[\"predicted_cluster\"] = pipe[\"clusterer\"][\"kmeans\"].labels_\n",
        "pcadf[\"true_label\"] = label_encoder.inverse_transform(true_labels)"
      ],
      "execution_count": null,
      "outputs": []
    },
    {
      "cell_type": "markdown",
      "metadata": {
        "id": "hDaIJy0G9MKW"
      },
      "source": [
        "The visual representation of the clusters confirms the results of the two clustering evaluation metrics. <br>\n",
        "The performance of the pipeline is pretty good. The clusters only slightly overlapped, and cluster assignments were much better than random."
      ]
    },
    {
      "cell_type": "code",
      "metadata": {
        "id": "_PNlkNQbMCUx"
      },
      "source": [
        "plt.style.use(\"fivethirtyeight\")\n",
        "plt.figure(figsize=(8, 8))\n",
        "\n",
        "scat = sns.scatterplot(\n",
        "    x=\"component_1\",\n",
        "    y=\"component_2\",\n",
        "    s=50,\n",
        "    data=pcadf,\n",
        "    hue=\"predicted_cluster\",\n",
        "    style=\"true_label\",\n",
        "    palette=\"Set2\",\n",
        ")\n",
        "\n",
        "scat.set_title(\n",
        "    \"Clustering results from TCGA Pan-Cancer\\nGene Expression Data\"\n",
        ")\n",
        "plt.legend(bbox_to_anchor=(1.05, 1), loc=2, borderaxespad=0.0)\n",
        "\n",
        "plt.show()"
      ],
      "execution_count": null,
      "outputs": []
    },
    {
      "cell_type": "markdown",
      "metadata": {
        "id": "5LLyjLj79a5a"
      },
      "source": [
        "# **Tuning the Pipeline**\n",
        "The process of parameter tuning consists of sequentially altering one of the input values of the algorithm’s parameters and recording the results.<br>\n",
        "Setting the PCA parameter n_components=2, you squished all the features into two components, or dimensions. This value was convenient for visualization on a two-dimensional plot. <br>\n",
        "Using only two components means that the PCA step won’t capture all of the explained variance of the input data."
      ]
    },
    {
      "cell_type": "code",
      "metadata": {
        "id": "6ZQ9atSvMYgp"
      },
      "source": [
        "# Empty lists to hold evaluation metrics\n",
        "silhouette_scores = []\n",
        "ari_scores = []\n",
        "for n in range(2, 11):\n",
        "    # This set the number of components for pca,\n",
        "    # but leaves other steps unchanged\n",
        "    pipe[\"preprocessor\"][\"pca\"].n_components = n\n",
        "    pipe.fit(data)\n",
        "\n",
        "    silhouette_coef = silhouette_score(\n",
        "        pipe[\"preprocessor\"].transform(data),\n",
        "        pipe[\"clusterer\"][\"kmeans\"].labels_,\n",
        "    )\n",
        "    ari = adjusted_rand_score(\n",
        "        true_labels,\n",
        "        pipe[\"clusterer\"][\"kmeans\"].labels_,\n",
        "    )\n",
        "\n",
        "    # Add metrics to their lists\n",
        "    silhouette_scores.append(silhouette_coef)\n",
        "    ari_scores.append(ari)"
      ],
      "execution_count": null,
      "outputs": []
    },
    {
      "cell_type": "code",
      "metadata": {
        "id": "XIZUN2YLBIda"
      },
      "source": [
        "plt.style.use(\"fivethirtyeight\")\n",
        "plt.figure(figsize=(8, 8))\n",
        "plt.plot(\n",
        "    range(2, 11),\n",
        "    silhouette_scores,\n",
        "    c=\"#008fd5\",\n",
        "    label=\"Silhouette Coefficient\",\n",
        ")\n",
        "plt.plot(range(2, 11), ari_scores, c=\"#fc4f30\", label=\"ARI\")\n",
        "\n",
        "plt.xlabel(\"n_components\")\n",
        "plt.legend()\n",
        "plt.title(\"Clustering Performance as a Function of n_components\")\n",
        "plt.tight_layout()\n",
        "plt.show()"
      ],
      "execution_count": null,
      "outputs": []
    },
    {
      "cell_type": "markdown",
      "metadata": {
        "id": "qtsmbdkwFW0X"
      },
      "source": [
        "The silhouette coefficient decreases linearly. The silhouette coefficient depends on the distance between points, so as the number of dimensions increases, the sparsity increases.<br>\n",
        "\n",
        "\n",
        "The ARI improves significantly as you add components. It appears to start tapering off after n_components=7, so that would be the value to use for presenting the best clustering results from this pipeline."
      ]
    },
    {
      "cell_type": "markdown",
      "metadata": {
        "id": "PaS-maj9CUs0"
      },
      "source": [
        "# **Change the pipeline to the new value**\n"
      ]
    },
    {
      "cell_type": "code",
      "metadata": {
        "id": "_0Jm-zoXCXf1"
      },
      "source": [
        "#change the PCA components to a recommended value\n",
        "preprocessor = Pipeline(\n",
        "    [\n",
        "        (\"scaler\", MinMaxScaler()),\n",
        "        (\"pca\", PCA(n_components=#, random_state=42)),\n",
        "    ]\n",
        ")"
      ],
      "execution_count": null,
      "outputs": []
    },
    {
      "cell_type": "code",
      "metadata": {
        "id": "fB5nC8QqChqt"
      },
      "source": [
        "pipe.fit(data)"
      ],
      "execution_count": null,
      "outputs": []
    },
    {
      "cell_type": "markdown",
      "metadata": {
        "id": "xAuEJ1brFoj2"
      },
      "source": [
        "As with most machine learning decisions, you must balance optimizing clustering evaluation metrics with the goal of the clustering task. <br>\n",
        "When cluster labels are available, ARI is a reasonable choice. <br>\n",
        "ARI quantifies how accurately your pipeline was able to reassign the cluster labels."
      ]
    },
    {
      "cell_type": "code",
      "metadata": {
        "id": "fcOw1SFJCo9u"
      },
      "source": [
        "preprocessed_data = pipe[\"preprocessor\"].transform(data)\n",
        "predicted_labels = pipe[\"clusterer\"][\"kmeans\"].labels_\n",
        "silhouette_score(preprocessed_data, predicted_labels)"
      ],
      "execution_count": null,
      "outputs": []
    },
    {
      "cell_type": "markdown",
      "metadata": {
        "id": "uIlkut6qF53H"
      },
      "source": [
        "The silhouette coefficient is a good choice for exploratory clustering because it helps to identify subclusters.<br>\n",
        "\n",
        "These subclusters warrant additional investigation, which can lead to new and important insights."
      ]
    },
    {
      "cell_type": "code",
      "metadata": {
        "id": "LqXAv9vsC0l0"
      },
      "source": [
        "adjusted_rand_score(true_labels, predicted_labels)"
      ],
      "execution_count": null,
      "outputs": []
    }
  ]
}