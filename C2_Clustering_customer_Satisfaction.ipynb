{
  "nbformat": 4,
  "nbformat_minor": 0,
  "metadata": {
    "colab": {
      "name": "C2 Clustering customer Satisfaction.ipynb",
      "private_outputs": true,
      "provenance": [],
      "authorship_tag": "ABX9TyMOAlX4+4nQZZmWLlmx+bkn",
      "include_colab_link": true
    },
    "kernelspec": {
      "name": "python3",
      "display_name": "Python 3"
    }
  },
  "cells": [
    {
      "cell_type": "markdown",
      "metadata": {
        "id": "view-in-github",
        "colab_type": "text"
      },
      "source": [
        "<a href=\"https://colab.research.google.com/github/cagBRT/Clustering-Intro/blob/master/C2_Clustering_customer_Satisfaction.ipynb\" target=\"_parent\"><img src=\"https://colab.research.google.com/assets/colab-badge.svg\" alt=\"Open In Colab\"/></a>"
      ]
    },
    {
      "cell_type": "markdown",
      "metadata": {
        "id": "mas6cUZefj4R"
      },
      "source": [
        "In this notebook we use clustering to group customers into groups for marketing campaigns. <br>\n",
        "\n",
        "The notebook uses the Elbow method to decide the number of clusters. <br>\n",
        "\n",
        "It also discusses the use of the silhoutette_score value"
      ]
    },
    {
      "cell_type": "code",
      "metadata": {
        "id": "ODhhoqjMuhY3"
      },
      "source": [
        "# Clone the entire repo.\n",
        "!git clone -l -s https://github.com/cagBRT/Clustering-Intro.git cloned-repo\n",
        "%cd cloned-repo"
      ],
      "execution_count": null,
      "outputs": []
    },
    {
      "cell_type": "markdown",
      "metadata": {
        "id": "g9zQG62pl82k"
      },
      "source": [
        "## Import the libraries"
      ]
    },
    {
      "cell_type": "code",
      "metadata": {
        "id": "nUkkzE6BvAEk"
      },
      "source": [
        "import numpy as np\n",
        "import pandas as pd\n",
        "import matplotlib.pyplot as plt\n",
        "import seaborn as sns\n",
        "sns.set()#seaborn.set(context='notebook', style='darkgrid', palette='deep', font='sans-serif', font_scale=1, color_codes=True, rc=None)\n",
        "from sklearn.cluster import KMeans\n",
        "from sklearn.metrics import silhouette_score"
      ],
      "execution_count": null,
      "outputs": []
    },
    {
      "cell_type": "markdown",
      "metadata": {
        "id": "DHQBD29gl_vC"
      },
      "source": [
        "## Load the data<br>\n",
        "The data lists the satifaction of a customer and their loyalty rating.<br>\n",
        "A positve loyalty is good for the store<br>\n",
        "A 0 loyalty is neutral<br>\n",
        "A negative loyalty is bad"
      ]
    },
    {
      "cell_type": "code",
      "metadata": {
        "id": "zNHpdGrnvX4y"
      },
      "source": [
        "data = pd.read_csv('Example.csv')\n",
        "data"
      ],
      "execution_count": null,
      "outputs": []
    },
    {
      "cell_type": "markdown",
      "metadata": {
        "id": "S5T9TUxAmc1_"
      },
      "source": [
        "## Plot the data"
      ]
    },
    {
      "cell_type": "code",
      "metadata": {
        "id": "aq4nfyqXvgLl"
      },
      "source": [
        "plt.scatter(data['Satisfaction'], data['Loyalty'])\n",
        "plt.xlabel('Satisfaction')\n",
        "plt.ylabel('Loyalty')\n",
        "plt.show()"
      ],
      "execution_count": null,
      "outputs": []
    },
    {
      "cell_type": "code",
      "metadata": {
        "id": "eOyrT3T2v4qD"
      },
      "source": [
        "x = data.copy()"
      ],
      "execution_count": null,
      "outputs": []
    },
    {
      "cell_type": "markdown",
      "metadata": {
        "id": "GLHU4dT9mjIw"
      },
      "source": [
        "## Select the KMeans model and train it"
      ]
    },
    {
      "cell_type": "code",
      "metadata": {
        "id": "Oj8htK8Tv8XD"
      },
      "source": [
        "kmeans= KMeans(2)\n",
        "kmeans.fit(x)"
      ],
      "execution_count": null,
      "outputs": []
    },
    {
      "cell_type": "markdown",
      "metadata": {
        "id": "rHM4PyDRmpdH"
      },
      "source": [
        "Make predictions with the model"
      ]
    },
    {
      "cell_type": "code",
      "metadata": {
        "id": "gjJuRYzIwC3x"
      },
      "source": [
        "clusters=x.copy()\n",
        "clusters['cluster_pred']=kmeans.fit_predict(x)"
      ],
      "execution_count": null,
      "outputs": []
    },
    {
      "cell_type": "markdown",
      "metadata": {
        "id": "liu4apgcmsMJ"
      },
      "source": [
        "Plot the two clusters"
      ]
    },
    {
      "cell_type": "code",
      "metadata": {
        "id": "2Hf19n29wOxi"
      },
      "source": [
        "plt.scatter(clusters['Satisfaction'],clusters['Loyalty'],c=clusters['cluster_pred'],cmap='rainbow')\n",
        "plt.xlabel('Satisfaction')\n",
        "plt.ylabel('Loyalty')\n",
        "plt.show()"
      ],
      "execution_count": null,
      "outputs": []
    },
    {
      "cell_type": "markdown",
      "source": [
        "## Silhouette score\n",
        "This function returns the mean Silhouette Coefficient over all samples. To obtain the values for each sample, use silhouette_samples.<br>\n",
        "\n",
        "\n",
        "The silhouette score measures how well each data point fits its assigned cluster compared to other clusters. It ranges from -1 to 1, where a score of 1 indicates that the point is well-matched to its cluster and poorly matched to other clusters.\n",
        "\n"
      ],
      "metadata": {
        "id": "h8_56Ap14zzJ"
      }
    },
    {
      "cell_type": "code",
      "source": [
        "kmeans = KMeans(n_clusters=2, random_state=42)\n",
        "silhouette_score(x, kmeans.fit_predict(x))"
      ],
      "metadata": {
        "id": "cgrv7GEx4z8R"
      },
      "execution_count": null,
      "outputs": []
    },
    {
      "cell_type": "markdown",
      "metadata": {
        "id": "Rr7eeFWlM2Qs"
      },
      "source": [
        "This is not a very good clustering choice.  This happens because Satisfaction is choosen as a feature and loyalty has been neglected. <br>\n",
        "This occurs because the satisfaction numbers are much larger than the loyalty numbers. <br>\n",
        "We will need to scale the data."
      ]
    },
    {
      "cell_type": "markdown",
      "metadata": {
        "id": "i_07oAtYm0KO"
      },
      "source": [
        "## For KMeans you should always scale your data.<br>\n",
        "Because distance measures are used to determine the correct cluster."
      ]
    },
    {
      "cell_type": "code",
      "metadata": {
        "id": "0NnWHFWdwtZN"
      },
      "source": [
        "from sklearn import preprocessing\n",
        "x_scaled=preprocessing.scale(x)\n",
        "x_scaled"
      ],
      "execution_count": null,
      "outputs": []
    },
    {
      "cell_type": "markdown",
      "metadata": {
        "id": "BCm7NYPjm2M8"
      },
      "source": [
        "Determine the best number of clusters for this data"
      ]
    },
    {
      "cell_type": "code",
      "metadata": {
        "id": "8Qf4XpdgxO9I"
      },
      "source": [
        "# calculate distortion for a range of number of clusters\n",
        "distortions = []\n",
        "score_list = []\n",
        "num_clusters=11\n",
        "for i in range(1, num_clusters):\n",
        "    km = KMeans(\n",
        "        n_clusters=i, init='random',\n",
        "        n_init=10, max_iter=300,\n",
        "        tol=1e-04, random_state=0\n",
        "    )\n",
        "    km.fit(x_scaled)\n",
        "    distortions.append(km.inertia_)\n",
        "\n",
        "# plot\n",
        "plt.plot(range(1, num_clusters), distortions, marker='o')\n",
        "plt.xlabel('Number of clusters')\n",
        "plt.ylabel('Distortion')\n",
        "plt.show()"
      ],
      "execution_count": null,
      "outputs": []
    },
    {
      "cell_type": "markdown",
      "source": [
        "We start with a number of clusters=2.<br>\n",
        "We see by the score the closest value to 1 is when number of clusters is 4."
      ],
      "metadata": {
        "id": "UfNsy40-J6mH"
      }
    },
    {
      "cell_type": "code",
      "source": [
        "score_list=[]\n",
        "for i in range(2,num_clusters):\n",
        "  kmeans = KMeans(n_clusters=i, random_state=42,n_init=10,)\n",
        "  km=kmeans.fit_predict(x_scaled)\n",
        "  print(silhouette_score(x_scaled,km ))"
      ],
      "metadata": {
        "id": "1-lhYv25CkaQ"
      },
      "execution_count": null,
      "outputs": []
    },
    {
      "cell_type": "markdown",
      "metadata": {
        "id": "jkl4YZsYm7Gt"
      },
      "source": [
        "Assignment: Select a new number of clusters based on the Distortion plot"
      ]
    },
    {
      "cell_type": "code",
      "metadata": {
        "id": "utarfEYkxnrp"
      },
      "source": [
        "x_scaled=np.array(x_scaled)\n",
        "kmeans_new = KMeans(4) #select a number of clusters\n",
        "kmeans.fit(x_scaled)\n",
        "cluster_new = x.copy()\n",
        "cluster_new['cluster_pred']= kmeans_new.fit_predict(x_scaled)\n",
        "cluster_new"
      ],
      "execution_count": null,
      "outputs": []
    },
    {
      "cell_type": "code",
      "metadata": {
        "id": "BARftP_CyKzi"
      },
      "source": [
        "plt.scatter(cluster_new['Satisfaction'],cluster_new['Loyalty'],c=cluster_new['cluster_pred'],cmap='rainbow')\n",
        "plt.xlabel('Satisfaction')\n",
        "plt.ylabel('Loyalty')\n",
        "plt.show()"
      ],
      "execution_count": null,
      "outputs": []
    },
    {
      "cell_type": "markdown",
      "source": [
        "The silhouette coefficient or silhouette score kmeans **is a measure of how similar a data point is within-cluster (cohesion) compared to other clusters (separation)**. The Silhouette score can be easily calculated in Python using the metrics module of the scikit-learn/sklearn library."
      ],
      "metadata": {
        "id": "1ppXaC-I5SbN"
      }
    },
    {
      "cell_type": "code",
      "source": [
        "kmeans = KMeans(n_clusters=4, random_state=42)\n",
        "silhouette_score(x_scaled, kmeans.fit_predict(x_scaled))"
      ],
      "metadata": {
        "id": "jLqyYaeB5Sjy"
      },
      "execution_count": null,
      "outputs": []
    }
  ]
}