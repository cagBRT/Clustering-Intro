{
  "nbformat": 4,
  "nbformat_minor": 0,
  "metadata": {
    "colab": {
      "name": "C2 Clustering customer Satisfaction.ipynb",
      "private_outputs": true,
      "provenance": [],
      "authorship_tag": "ABX9TyMiHI1JULJO6TLAjdhVUez1",
      "include_colab_link": true
    },
    "kernelspec": {
      "name": "python3",
      "display_name": "Python 3"
    }
  },
  "cells": [
    {
      "cell_type": "markdown",
      "metadata": {
        "id": "view-in-github",
        "colab_type": "text"
      },
      "source": [
        "<a href=\"https://colab.research.google.com/github/cagBRT/Clustering-Intro/blob/master/C2_Clustering_customer_Satisfaction.ipynb\" target=\"_parent\"><img src=\"https://colab.research.google.com/assets/colab-badge.svg\" alt=\"Open In Colab\"/></a>"
      ]
    },
    {
      "cell_type": "code",
      "metadata": {
        "id": "ODhhoqjMuhY3"
      },
      "source": [
        "# Clone the entire repo.\n",
        "!git clone -l -s https://github.com/cagBRT/Clustering-Intro.git cloned-repo\n",
        "%cd cloned-repo"
      ],
      "execution_count": null,
      "outputs": []
    },
    {
      "cell_type": "markdown",
      "metadata": {
        "id": "g9zQG62pl82k"
      },
      "source": [
        "Import the libraries"
      ]
    },
    {
      "cell_type": "code",
      "metadata": {
        "id": "nUkkzE6BvAEk"
      },
      "source": [
        "import numpy as np\n",
        "import pandas as pd\n",
        "import matplotlib.pyplot as plt\n",
        "import seaborn as sns\n",
        "sns.set()#seaborn.set(context='notebook', style='darkgrid', palette='deep', font='sans-serif', font_scale=1, color_codes=True, rc=None)\n",
        "from sklearn.cluster import KMeans"
      ],
      "execution_count": null,
      "outputs": []
    },
    {
      "cell_type": "markdown",
      "metadata": {
        "id": "DHQBD29gl_vC"
      },
      "source": [
        "Load the data<br>\n",
        "The data lists the satifaction of a customer and their loyalty rating.<br>\n",
        "A positve loyalty is good for the store<br>\n",
        "A 0 loyalty is neutral<br>\n",
        "A negative loyalty is bad"
      ]
    },
    {
      "cell_type": "code",
      "metadata": {
        "id": "zNHpdGrnvX4y"
      },
      "source": [
        "data = pd.read_csv('Example.csv')\n",
        "data"
      ],
      "execution_count": null,
      "outputs": []
    },
    {
      "cell_type": "markdown",
      "metadata": {
        "id": "S5T9TUxAmc1_"
      },
      "source": [
        "Plot the data"
      ]
    },
    {
      "cell_type": "code",
      "metadata": {
        "id": "aq4nfyqXvgLl"
      },
      "source": [
        "plt.scatter(data['Satisfaction'], data['Loyalty'])\n",
        "plt.xlabel('Satisfaction')\n",
        "plt.ylabel('Loyalty')\n",
        "plt.show"
      ],
      "execution_count": null,
      "outputs": []
    },
    {
      "cell_type": "code",
      "metadata": {
        "id": "eOyrT3T2v4qD"
      },
      "source": [
        "x = data.copy()"
      ],
      "execution_count": null,
      "outputs": []
    },
    {
      "cell_type": "markdown",
      "metadata": {
        "id": "GLHU4dT9mjIw"
      },
      "source": [
        "Select the KMeans model and train it"
      ]
    },
    {
      "cell_type": "code",
      "metadata": {
        "id": "Oj8htK8Tv8XD"
      },
      "source": [
        "kmeans= KMeans(2)\n",
        "kmeans.fit(x)"
      ],
      "execution_count": null,
      "outputs": []
    },
    {
      "cell_type": "markdown",
      "metadata": {
        "id": "rHM4PyDRmpdH"
      },
      "source": [
        "Make predictions with the model"
      ]
    },
    {
      "cell_type": "code",
      "metadata": {
        "id": "gjJuRYzIwC3x"
      },
      "source": [
        "clusters=x.copy()\n",
        "clusters['cluster_pred']=kmeans.fit_predict(x)"
      ],
      "execution_count": null,
      "outputs": []
    },
    {
      "cell_type": "markdown",
      "metadata": {
        "id": "liu4apgcmsMJ"
      },
      "source": [
        "Plot the two clusters"
      ]
    },
    {
      "cell_type": "code",
      "metadata": {
        "id": "2Hf19n29wOxi"
      },
      "source": [
        "plt.scatter(clusters['Satisfaction'],clusters['Loyalty'],c=clusters['cluster_pred'],cmap='rainbow')\n",
        "plt.xlabel('Satisfaction')\n",
        "plt.ylabel('Loyalty')\n",
        "plt.show"
      ],
      "execution_count": null,
      "outputs": []
    },
    {
      "cell_type": "markdown",
      "metadata": {
        "id": "Rr7eeFWlM2Qs"
      },
      "source": [
        "This is not a very good clustering choice.  This happens because Satisfaction is choosen as a feature and loyalty has been neglected. <br>\n",
        "This occurs because the satisfaction numbers are much larger than the loyalty numbers. <br>\n",
        "We will need to scale the data. "
      ]
    },
    {
      "cell_type": "markdown",
      "metadata": {
        "id": "i_07oAtYm0KO"
      },
      "source": [
        "Scale the data"
      ]
    },
    {
      "cell_type": "code",
      "metadata": {
        "id": "0NnWHFWdwtZN"
      },
      "source": [
        "from sklearn import preprocessing\n",
        "x_scaled=preprocessing.scale(x)\n",
        "#x_scaled"
      ],
      "execution_count": null,
      "outputs": []
    },
    {
      "cell_type": "markdown",
      "metadata": {
        "id": "BCm7NYPjm2M8"
      },
      "source": [
        "Determine the best number of clusters for this data"
      ]
    },
    {
      "cell_type": "code",
      "metadata": {
        "id": "8Qf4XpdgxO9I"
      },
      "source": [
        "# calculate distortion for a range of number of clusters\n",
        "distortions = []\n",
        "for i in range(1, 30):\n",
        "    km = KMeans(\n",
        "        n_clusters=i, init='random',\n",
        "        n_init=10, max_iter=300,\n",
        "        tol=1e-04, random_state=0\n",
        "    )\n",
        "    km.fit(x_scaled)\n",
        "    distortions.append(km.inertia_)\n",
        "\n",
        "# plot\n",
        "plt.plot(range(1, 30), distortions, marker='o')\n",
        "plt.xlabel('Number of clusters')\n",
        "plt.ylabel('Distortion')\n",
        "plt.show()"
      ],
      "execution_count": null,
      "outputs": []
    },
    {
      "cell_type": "markdown",
      "metadata": {
        "id": "jkl4YZsYm7Gt"
      },
      "source": [
        "Assignment: Select a new number of clusters based on the Distortion plot"
      ]
    },
    {
      "cell_type": "code",
      "metadata": {
        "id": "utarfEYkxnrp"
      },
      "source": [
        "kmeans_new = KMeans(#) #select a number of clusters\n",
        "kmeans.fit(x_scaled)\n",
        "cluster_new = x.copy()\n",
        "cluster_new['cluster_pred']=kmeans_new.fit_predict(x_scaled)\n",
        "cluster_new"
      ],
      "execution_count": null,
      "outputs": []
    },
    {
      "cell_type": "code",
      "metadata": {
        "id": "BARftP_CyKzi"
      },
      "source": [
        "plt.scatter(cluster_new['Satisfaction'],cluster_new['Loyalty'],c=cluster_new['cluster_pred'],cmap='rainbow')\n",
        "plt.xlabel('Satisfaction')\n",
        "plt.ylabel('Loyalty')\n",
        "plt.show"
      ],
      "execution_count": null,
      "outputs": []
    }
  ]
}