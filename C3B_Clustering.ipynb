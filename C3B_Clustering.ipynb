{
  "nbformat": 4,
  "nbformat_minor": 0,
  "metadata": {
    "colab": {
      "name": "C3B Clustering.ipynb",
      "private_outputs": true,
      "provenance": [],
      "authorship_tag": "ABX9TyOhhgUwrN4tIPAs0MulnLyG",
      "include_colab_link": true
    },
    "kernelspec": {
      "name": "python3",
      "display_name": "Python 3"
    }
  },
  "cells": [
    {
      "cell_type": "markdown",
      "metadata": {
        "id": "view-in-github",
        "colab_type": "text"
      },
      "source": [
        "<a href=\"https://colab.research.google.com/github/cagBRT/Clustering-Intro/blob/master/C3B_Clustering.ipynb\" target=\"_parent\"><img src=\"https://colab.research.google.com/assets/colab-badge.svg\" alt=\"Open In Colab\"/></a>"
      ]
    },
    {
      "cell_type": "code",
      "source": [
        "# Clone the entire repo.\n",
        "!git clone -l -s https://github.com/cagBRT/Clustering-Intro.git cloned-repo\n",
        "%cd cloned-repo"
      ],
      "metadata": {
        "id": "l79lGqfv60NY"
      },
      "execution_count": null,
      "outputs": []
    },
    {
      "cell_type": "markdown",
      "metadata": {
        "id": "JSMDtNErfPmb"
      },
      "source": [
        "In this notebook you use clustering to reduce the number of colors in images."
      ]
    },
    {
      "cell_type": "markdown",
      "metadata": {
        "id": "SYcZP7OWMhLk"
      },
      "source": [
        "Import the libraries"
      ]
    },
    {
      "cell_type": "code",
      "metadata": {
        "id": "w8blU1bfK0Zx"
      },
      "source": [
        "%matplotlib inline\n",
        "import matplotlib.pyplot as plt\n",
        "import seaborn as sns; sns.set()  # for plot styling\n",
        "import numpy as np\n",
        "from PIL import Image"
      ],
      "execution_count": null,
      "outputs": []
    },
    {
      "cell_type": "markdown",
      "metadata": {
        "id": "IqAjoQa-M9xo"
      },
      "source": [
        "Load the picture from the sample_images from sklearn"
      ]
    },
    {
      "cell_type": "code",
      "metadata": {
        "id": "s3s7phfaJdcn"
      },
      "source": [
        "# Note: this requires the ``pillow`` package to be installed\n",
        "from sklearn.datasets import load_sample_image\n",
        "china = load_sample_image(\"china.jpg\")\n",
        "ax = plt.axes(xticks=[], yticks=[])\n",
        "ax.imshow(china);"
      ],
      "execution_count": null,
      "outputs": []
    },
    {
      "cell_type": "markdown",
      "metadata": {
        "id": "w6kLVPbtNDD1"
      },
      "source": [
        "The shape of the image is 427 pixels x 640 pixels by 3 colors (rgb)"
      ]
    },
    {
      "cell_type": "code",
      "metadata": {
        "id": "JqLjvW0sLLtr"
      },
      "source": [
        "china.shape"
      ],
      "execution_count": null,
      "outputs": []
    },
    {
      "cell_type": "markdown",
      "metadata": {
        "id": "QiE2uyNeNJ_z"
      },
      "source": [
        "Normalize the data and reshape it into a 273,280 pixels by 3 colors"
      ]
    },
    {
      "cell_type": "code",
      "metadata": {
        "id": "8jPwG_JZLOhK"
      },
      "source": [
        "data = china / 255.0 # use 0...1 scale\n",
        "data = data.reshape(china.shape[0] * china.shape[1], 3)\n",
        "data.shape"
      ],
      "execution_count": null,
      "outputs": []
    },
    {
      "cell_type": "markdown",
      "metadata": {
        "id": "hBqCcB7dNZEI"
      },
      "source": [
        "Plot the colors used in the image"
      ]
    },
    {
      "cell_type": "code",
      "metadata": {
        "id": "DjO7Zjv0LRgG"
      },
      "source": [
        "def plot_pixels(data, title, colors=None, N=10000):\n",
        "    if colors is None:\n",
        "        colors = data\n",
        "\n",
        "    # choose a random subset\n",
        "    rng = np.random.RandomState(0)\n",
        "    i = rng.permutation(data.shape[0])[:N]\n",
        "    colors = colors[i]\n",
        "    R, G, B = data[i].T\n",
        "\n",
        "    fig, ax = plt.subplots(1, 2, figsize=(16, 6))\n",
        "    a = ax[0].scatter(R, G, color=colors, marker='.')\n",
        "    ax[0].set(xlabel='Red', ylabel='Green', xlim=(0, 1), ylim=(0, 1))\n",
        "\n",
        "    ax[1].scatter(R, B, color=colors, marker='.')\n",
        "    ax[1].set(xlabel='Red', ylabel='Blue', xlim=(0, 1), ylim=(0, 1))\n",
        "    fig.colorbar(a)\n",
        "    fig.suptitle(title, size=20);\n"
      ],
      "execution_count": null,
      "outputs": []
    },
    {
      "cell_type": "code",
      "metadata": {
        "id": "1Os1yD_aLV93"
      },
      "source": [
        "plot_pixels(data, title='Input color space: 16 million possible colors')"
      ],
      "execution_count": null,
      "outputs": []
    },
    {
      "cell_type": "markdown",
      "metadata": {
        "id": "w5S9jYL0Nc7O"
      },
      "source": [
        "Use clustering to reduce the possible number of colors in the image."
      ]
    },
    {
      "cell_type": "code",
      "metadata": {
        "id": "mWuwDkpsLZ1e"
      },
      "source": [
        "NO_BATCHES=16\n",
        "\n",
        "import warnings; warnings.simplefilter('ignore')  # Fix NumPy issues.\n",
        "\n",
        "from sklearn.cluster import MiniBatchKMeans\n",
        "kmeans = MiniBatchKMeans(NO_BATCHES)\n",
        "kmeans.fit(data)\n",
        "new_colors = kmeans.cluster_centers_[kmeans.predict(data)]\n",
        "plot_pixels(data, colors=new_colors,\n",
        "            title=(\"Reduced color space:\", NO_BATCHES, \"colors\"))"
      ],
      "execution_count": null,
      "outputs": []
    },
    {
      "cell_type": "code",
      "metadata": {
        "id": "SUQ4AxkoLe9c"
      },
      "source": [
        "china_recolored = new_colors.reshape(china.shape)\n",
        "\n",
        "fig, ax = plt.subplots(1, 2, figsize=(16, 6),\n",
        "                       subplot_kw=dict(xticks=[], yticks=[]))\n",
        "fig.subplots_adjust(wspace=0.05)\n",
        "ax[0].imshow(china)\n",
        "ax[0].set_title('Original Image', size=16)\n",
        "ax[1].imshow(china_recolored)\n",
        "ax[1].set_title('Reduced color Image', size=16);"
      ],
      "execution_count": null,
      "outputs": []
    },
    {
      "cell_type": "markdown",
      "metadata": {
        "id": "zimogov-dnTO"
      },
      "source": [
        "# **Assignment**\n",
        "Use k-means clustering to color compress the flower image to 32 colors."
      ]
    },
    {
      "cell_type": "code",
      "metadata": {
        "id": "aQuCk66fdWvG"
      },
      "source": [
        "from sklearn.datasets import load_sample_image\n",
        "flower = load_sample_image(\"flower.jpg\")\n",
        "ax = plt.axes(xticks=[], yticks=[])\n",
        "ax.imshow(flower);"
      ],
      "execution_count": null,
      "outputs": []
    },
    {
      "cell_type": "markdown",
      "source": [
        "Assignment<br>\n",
        "Use your own .jpg image\n",
        "\n"
      ],
      "metadata": {
        "id": "p8S9CwVH4qIY"
      }
    },
    {
      "cell_type": "code",
      "source": [
        "from PIL import Image\n",
        "\n",
        "import matplotlib.pyplot as plt\n",
        "import numpy as np\n",
        "\n",
        "img = np.asarray(Image.open('images/florence-2044046_1280 (1).jpg'))\n",
        "print(repr(img))"
      ],
      "metadata": {
        "id": "KG0eo7rH4v3U"
      },
      "execution_count": null,
      "outputs": []
    },
    {
      "cell_type": "code",
      "source": [
        "imgplot = plt.imshow(img)"
      ],
      "metadata": {
        "id": "7FXSvXuV47F2"
      },
      "execution_count": null,
      "outputs": []
    },
    {
      "cell_type": "code",
      "source": [
        "img.shape"
      ],
      "metadata": {
        "id": "mRtsS4GL497V"
      },
      "execution_count": null,
      "outputs": []
    },
    {
      "cell_type": "code",
      "source": [
        "data = img / 255.0 # use 0...1 scale\n",
        "data = data.reshape(img.shape[0]*img.shape[1], 3)\n",
        "data.shape"
      ],
      "metadata": {
        "id": "WANr6Pys4_6u"
      },
      "execution_count": null,
      "outputs": []
    },
    {
      "cell_type": "code",
      "source": [
        "plot_pixels(data, title='Input color space: 16 million possible colors')"
      ],
      "metadata": {
        "id": "ONWn4kcb5Csl"
      },
      "execution_count": null,
      "outputs": []
    },
    {
      "cell_type": "code",
      "source": [
        "kmeans = MiniBatchKMeans(16) #16 clusters\n",
        "kmeans.fit(data)\n",
        "new_colors = kmeans.cluster_centers_[kmeans.predict(data)]\n",
        "plot_pixels(data, colors=new_colors,\n",
        "            title=\"Reduced color space: 16 colors\")"
      ],
      "metadata": {
        "id": "EqcAsqRL5Hii"
      },
      "execution_count": null,
      "outputs": []
    },
    {
      "cell_type": "code",
      "source": [
        "img_recolored = new_colors.reshape(img.shape)\n",
        "\n",
        "fig, ax = plt.subplots(1, 2, figsize=(16, 6),\n",
        "                       subplot_kw=dict(xticks=[], yticks=[]))\n",
        "fig.subplots_adjust(wspace=0.05)\n",
        "ax[0].imshow(img)\n",
        "ax[0].set_title('Original Image', size=16)\n",
        "ax[1].imshow(img_recolored)\n",
        "ax[1].set_title('16-color Image', size=16);"
      ],
      "metadata": {
        "id": "pB_lVYV65KgI"
      },
      "execution_count": null,
      "outputs": []
    }
  ]
}