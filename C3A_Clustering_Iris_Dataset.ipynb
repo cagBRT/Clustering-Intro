{
  "nbformat": 4,
  "nbformat_minor": 0,
  "metadata": {
    "colab": {
      "name": "C3A Clustering Iris Dataset.ipynb",
      "private_outputs": true,
      "provenance": [],
      "authorship_tag": "ABX9TyNn3eiCKzhxMEHTSiBmp29D",
      "include_colab_link": true
    },
    "kernelspec": {
      "name": "python3",
      "display_name": "Python 3"
    }
  },
  "cells": [
    {
      "cell_type": "markdown",
      "metadata": {
        "id": "view-in-github",
        "colab_type": "text"
      },
      "source": [
        "<a href=\"https://colab.research.google.com/github/cagBRT/Clustering-Intro/blob/master/C3A_Clustering_Iris_Dataset.ipynb\" target=\"_parent\"><img src=\"https://colab.research.google.com/assets/colab-badge.svg\" alt=\"Open In Colab\"/></a>"
      ]
    },
    {
      "cell_type": "markdown",
      "metadata": {
        "id": "L1Ko21YR4BbR"
      },
      "source": [
        "Clustering on the Iris Dataset"
      ]
    },
    {
      "cell_type": "code",
      "metadata": {
        "id": "HnDmqyI75Uy6"
      },
      "source": [
        "import numpy as np\n",
        "import pandas as pd\n",
        "import matplotlib.pyplot as plt\n",
        "import seaborn as sns\n",
        "from sklearn.cluster import KMeans\n",
        "from sklearn.preprocessing import OneHotEncoder"
      ],
      "execution_count": null,
      "outputs": []
    },
    {
      "cell_type": "markdown",
      "metadata": {
        "id": "cAIc6AHcnn-h"
      },
      "source": [
        "Get the data"
      ]
    },
    {
      "cell_type": "code",
      "metadata": {
        "id": "83EpKDII3-38"
      },
      "source": [
        "# Load dataset\n",
        "url = \"https://raw.githubusercontent.com/jbrownlee/Datasets/master/iris.csv\"\n",
        "names = ['sepal-length', 'sepal-width', 'petal-length', 'petal-width', 'class']\n",
        "dataset = pd.read_csv(url, names=names)"
      ],
      "execution_count": null,
      "outputs": []
    },
    {
      "cell_type": "code",
      "metadata": {
        "id": "fEfdGCmc5rDb"
      },
      "source": [
        "dataset.head()"
      ],
      "execution_count": null,
      "outputs": []
    },
    {
      "cell_type": "code",
      "metadata": {
        "id": "cPNiYmCpaBux"
      },
      "source": [
        "dataset.shape"
      ],
      "execution_count": null,
      "outputs": []
    },
    {
      "cell_type": "markdown",
      "metadata": {
        "id": "GIsM6DoVnraZ"
      },
      "source": [
        "Plot the data"
      ]
    },
    {
      "cell_type": "code",
      "metadata": {
        "id": "BTK0Qjj-Gjq4"
      },
      "source": [
        "plt.scatter(dataset['sepal-width'],dataset['class'])\n",
        "plt.xlabel('sepal-width')\n",
        "plt.ylabel('class')\n",
        "plt.show"
      ],
      "execution_count": null,
      "outputs": []
    },
    {
      "cell_type": "code",
      "metadata": {
        "id": "qz1ohS0OP_ZX"
      },
      "source": [
        "plt.scatter(dataset['sepal-length'],dataset['class'])\n",
        "plt.xlabel('sepal-length')\n",
        "plt.ylabel('class')\n",
        "plt.show"
      ],
      "execution_count": null,
      "outputs": []
    },
    {
      "cell_type": "markdown",
      "metadata": {
        "id": "xdSoO99ant_k"
      },
      "source": [
        "Prepare the data for ML"
      ]
    },
    {
      "cell_type": "code",
      "metadata": {
        "id": "lw4seQWp5zD7"
      },
      "source": [
        "# Change categorical data to number 0-2\n",
        "dataset[\"class\"] = pd.Categorical(dataset[\"class\"])\n",
        "dataset[\"class\"] = dataset[\"class\"].cat.codes\n",
        "# Change dataframe to numpy matrix\n",
        "data = dataset.values[:, 0:4]\n",
        "category = dataset.values[:, 4]"
      ],
      "execution_count": null,
      "outputs": []
    },
    {
      "cell_type": "code",
      "metadata": {
        "id": "ZeYbXKi_Jexa"
      },
      "source": [
        "dataset.head()"
      ],
      "execution_count": null,
      "outputs": []
    },
    {
      "cell_type": "markdown",
      "metadata": {
        "id": "Hhtb8ByWnz16"
      },
      "source": [
        "Remove the labels from the dataset"
      ]
    },
    {
      "cell_type": "code",
      "metadata": {
        "id": "2TR48p4jNkvp"
      },
      "source": [
        "data_no_class = dataset.drop([\"class\"], axis=1)"
      ],
      "execution_count": null,
      "outputs": []
    },
    {
      "cell_type": "code",
      "metadata": {
        "id": "E0zmAjQVR3m-"
      },
      "source": [
        "data_no_class.head()"
      ],
      "execution_count": null,
      "outputs": []
    },
    {
      "cell_type": "code",
      "metadata": {
        "id": "O_5kSr5fBxIm"
      },
      "source": [
        "#X is the features set for the model\n",
        "x = data_no_class.copy()"
      ],
      "execution_count": null,
      "outputs": []
    },
    {
      "cell_type": "markdown",
      "metadata": {
        "id": "HLUYg6UcOVSV"
      },
      "source": [
        "Assignment: Select then number of clusters"
      ]
    },
    {
      "cell_type": "code",
      "metadata": {
        "id": "JUuvWyA29xaF"
      },
      "source": [
        "#Choose the number of clusters\n",
        "kmeans= KMeans(n_clusters=3, init='k-means++', n_init=10, max_iter=300, \n",
        "               tol=1e-04, precompute_distances='auto', verbose=0,\n",
        "               random_state=None, copy_x=True, n_jobs=None, algorithm='auto')\n",
        "kmeans.fit(x)"
      ],
      "execution_count": null,
      "outputs": []
    },
    {
      "cell_type": "markdown",
      "metadata": {
        "id": "78gje4ojoFJW"
      },
      "source": [
        "Make predictions with the model"
      ]
    },
    {
      "cell_type": "code",
      "metadata": {
        "id": "k2AOL37uBoS2"
      },
      "source": [
        "clusters=x.copy()\n",
        "clusters['cluster_pred']=kmeans.fit_predict(x)"
      ],
      "execution_count": null,
      "outputs": []
    },
    {
      "cell_type": "code",
      "metadata": {
        "id": "GdbtUOJuFQU-"
      },
      "source": [
        "clusters.columns"
      ],
      "execution_count": null,
      "outputs": []
    },
    {
      "cell_type": "markdown",
      "metadata": {
        "id": "dRHkGH8LozFk"
      },
      "source": [
        "Cluster based on sepal-width"
      ]
    },
    {
      "cell_type": "code",
      "metadata": {
        "id": "z_a5Gbld_CK9"
      },
      "source": [
        "plt.scatter(clusters['sepal-width'],clusters['petal-width'],\n",
        "            c=clusters['cluster_pred'],cmap='rainbow')\n",
        "plt.xlabel('sepal-width')\n",
        "plt.ylabel('petal-width')\n",
        "plt.show"
      ],
      "execution_count": null,
      "outputs": []
    },
    {
      "cell_type": "markdown",
      "metadata": {
        "id": "da0hd-mRo9xa"
      },
      "source": [
        "Cluster based on petal-length"
      ]
    },
    {
      "cell_type": "code",
      "metadata": {
        "id": "HiZRnMBAe1gp"
      },
      "source": [
        "plt.scatter(clusters['sepal-length'],clusters['petal-length'],\n",
        "            c=dataset['class'],cmap='rainbow')\n",
        "plt.xlabel('sepal-length')\n",
        "plt.ylabel('petal-length')\n",
        "plt.show"
      ],
      "execution_count": null,
      "outputs": []
    },
    {
      "cell_type": "markdown",
      "metadata": {
        "id": "RxdoBiecoOuV"
      },
      "source": [
        "Examine the wrong predictions"
      ]
    },
    {
      "cell_type": "code",
      "metadata": {
        "id": "iau8OapW_CP6"
      },
      "source": [
        "wrongs = pd.DataFrame()\n",
        "wrongs['prediction'] = clusters['cluster_pred']\n",
        "wrongs\n",
        "wrongs['class'] = dataset['class']"
      ],
      "execution_count": null,
      "outputs": []
    },
    {
      "cell_type": "code",
      "metadata": {
        "id": "TnAW87EXZ5Q3"
      },
      "source": [
        "#the prediction of 1 is wrong, the correct class is listed\n",
        "class0 = (wrongs['prediction'] == 1 )& (wrongs['class'] != 1)\n",
        "wrongs[class0]"
      ],
      "execution_count": null,
      "outputs": []
    },
    {
      "cell_type": "code",
      "metadata": {
        "id": "SMRjYMTNcW9Z"
      },
      "source": [
        "#the prediction of 0 is wrong, the correct class is listed\n",
        "class1 = (wrongs['prediction'] == 0 )& (wrongs['class'] != 0)\n",
        "wrongs[class1]"
      ],
      "execution_count": null,
      "outputs": []
    },
    {
      "cell_type": "code",
      "metadata": {
        "id": "gyzBJV5tdBM0"
      },
      "source": [
        "##the prediction of 2 is wrong, the correct class is listed\n",
        "class2 = (wrongs['prediction'] == 2 )& (wrongs['class'] != 2)\n",
        "wrongs[class2]"
      ],
      "execution_count": null,
      "outputs": []
    }
  ]
}